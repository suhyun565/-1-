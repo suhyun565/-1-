{
  "nbformat": 4,
  "nbformat_minor": 0,
  "metadata": {
    "colab": {
      "name": "softmax_classifier.ipynb",
      "provenance": [],
      "authorship_tag": "ABX9TyPX6HK5yg3VVQ0N0HECGuzM",
      "include_colab_link": true
    },
    "kernelspec": {
      "name": "python3",
      "display_name": "Python 3"
    },
    "language_info": {
      "name": "python"
    }
  },
  "cells": [
    {
      "cell_type": "markdown",
      "metadata": {
        "id": "view-in-github",
        "colab_type": "text"
      },
      "source": [
        "<a href=\"https://colab.research.google.com/github/suhyun565/-1-/blob/main/softmax_classifier.ipynb\" target=\"_parent\"><img src=\"https://colab.research.google.com/assets/colab-badge.svg\" alt=\"Open In Colab\"/></a>"
      ]
    },
    {
      "cell_type": "code",
      "execution_count": null,
      "metadata": {
        "id": "SYvzxDfKM4TE"
      },
      "outputs": [],
      "source": [
        "!pip uninstall tensorflow"
      ]
    },
    {
      "cell_type": "code",
      "source": [
        "!pip install tensorflow==1.14"
      ],
      "metadata": {
        "id": "2MBpohsMOFma"
      },
      "execution_count": null,
      "outputs": []
    },
    {
      "cell_type": "code",
      "source": [
        "import tensorflow as tf"
      ],
      "metadata": {
        "id": "vakk6pFAOQ9P"
      },
      "execution_count": null,
      "outputs": []
    },
    {
      "cell_type": "code",
      "source": [
        "x_data = [[1,2,1,1],[2,1,3,2],[3,1,3,4],[4,1,5,5],[1,7,5,5],[1,2,5,6],[1,6,6,6],[1,7,7,7]]\n",
        "y_data = [[0,0,1],[0,0,1],[0,0,1],[0,1,0],[0,1,0],[0,1,0],[1,0,0],[1,0,0]]"
      ],
      "metadata": {
        "id": "Ccr9Aok5OWfh"
      },
      "execution_count": null,
      "outputs": []
    },
    {
      "cell_type": "code",
      "source": [
        "x = tf.placeholder('float',[None,4])\n",
        "y = tf.placeholder('float',[None,3])\n",
        "nb_classes = 3"
      ],
      "metadata": {
        "id": "BWumGuXJO1XD"
      },
      "execution_count": null,
      "outputs": []
    },
    {
      "cell_type": "code",
      "source": [
        "w = tf.Variable(tf.random_normal([4, nb_classes]), name='weight')\n",
        "b = tf.Variable(tf.random_normal([nb_classes]), name='bias')\n",
        "hypothesis = tf.nn.softmax(tf.matmul(x,w)+b)"
      ],
      "metadata": {
        "id": "ocwbUBCJPJbT"
      },
      "execution_count": null,
      "outputs": []
    },
    {
      "cell_type": "code",
      "source": [
        "cost = tf.reduce_mean(-tf.reduce_sum(y*tf.log(hypothesis),axis=1))\n",
        "optimizer = tf.train.GradientDescentOptimizer(learning_rate=0.1).minimize(cost)"
      ],
      "metadata": {
        "id": "O4WeSGHwPzeA"
      },
      "execution_count": null,
      "outputs": []
    },
    {
      "cell_type": "code",
      "source": [
        "with tf.Session() as sess:\n",
        "  sess.run(tf.global_variables_initializer())\n",
        "\n",
        "  for step in range(2001):\n",
        "    sess.run(optimizer, feed_dict={x:x_data, y:y_data})\n",
        "    if step % 200 == 0:\n",
        "      print(step, sess.run(cost, feed_dict={x:x_data, y:y_data}))"
      ],
      "metadata": {
        "colab": {
          "base_uri": "https://localhost:8080/"
        },
        "id": "vEGYrfsBQYY7",
        "outputId": "926e2f20-e688-4420-d34a-f228f1c52ee9"
      },
      "execution_count": null,
      "outputs": [
        {
          "output_type": "stream",
          "name": "stdout",
          "text": [
            "0 7.9863234\n",
            "200 0.6151478\n",
            "400 0.5023557\n",
            "600 0.42145458\n",
            "800 0.34898797\n",
            "1000 0.27630216\n",
            "1200 0.23354897\n",
            "1400 0.21203625\n",
            "1600 0.1940133\n",
            "1800 0.17870143\n",
            "2000 0.16554159\n"
          ]
        }
      ]
    }
  ]
}