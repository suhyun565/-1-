{
 "cells": [
  {
   "cell_type": "code",
   "execution_count": 4,
   "metadata": {},
   "outputs": [
    {
     "name": "stdout",
     "output_type": "stream",
     "text": [
      "url: http://m.leejiral.com/product/detail.html?product_no=12939&cate_no=29&display_group=1&cafe_mkt=kakao_style&ghost_mall_id=kakao&kakaostyle4=%7C%7C0%7C50000&kakaostyle1=10001905&kakaostyle2=13589135\n",
      "img_url: https://style.kakao.com/item/13589135?idx=0&itemNos=13589135%2C14444539%2C14393961%2C14446541%2C14451696%2C14417476%2C14452608%2C13649282%2C14455274%2C14450548%2C14457220%2C14455078%2C13624017%2C14449037%2C14406059%2C14420125%2C13154809%2C13346158%2C11947657%2C14440169\n",
      "category 원피스\n",
      "title: 라벤더 플라워원피스\n",
      "shop_title: 리지랄닷컴\n",
      "st_img_url: https://img1.daumcdn.net/thumb/S300x400/?fname=https%3A%2F%2Ft1.daumcdn.net%2Fkstyle%2Fupload%2Fitem%2F20200812%2F03%2F13%2FbHV_H5T0rRBKsq5bwf7cVMw94Dk.jpg&scode=kakaostyle_ad\n"
     ]
    }
   ],
   "source": [
    "import requests\n",
    "import time\n",
    "from bs4 import BeautifulSoup\n",
    "from selenium import webdriver\n",
    "import json\n",
    "\n",
    "browser = webdriver.Chrome(\"C:\\./chromedriver\")\n",
    "browser.maximize_window()\n",
    "\n",
    "#페이지 이동\n",
    "url=\"https://style.kakao.com/category/10000010\"\n",
    "browser.get(url)\n",
    "\n",
    "\n",
    "#아이템 선택\n",
    "browser.find_element_by_xpath(\"//*[@id='main']/main/div/div/div/div/div[3]/ul/li[1]/div/a\").click()\n",
    "\n",
    "time.sleep(3)\n",
    "\n",
    "\n",
    "#상세보기 클릭하고 url얻어오기\n",
    "browser.find_element_by_xpath(\"//*[@id='main']/main/div[1]/div/div[2]/div\").click()\n",
    "\n",
    "time.sleep(3)\n",
    "browser.switch_to.window(browser.window_handles[-1])\n",
    "time.sleep(3)\n",
    "url=browser.current_url\n",
    "print(\"url:\",url)\n",
    "\n",
    "#img url출력\n",
    "time.sleep(3)\n",
    "browser.switch_to.window(browser.window_handles[0])\n",
    "time.sleep(3)\n",
    "img_url=browser.current_url\n",
    "print(\"img_url:\",browser.current_url)\n",
    "\n",
    "#이전 클릭하기\n",
    "browser.find_element_by_xpath(\"//*[@id='kakaoHead']/div/div/div[2]/button[1]/span\").click()\n",
    "\n",
    "time.sleep(5)\n",
    "\n",
    "html = browser.page_source\n",
    "soup = BeautifulSoup(html,'html.parser')\n",
    "\n",
    "\n",
    "category=soup.find(\"button\",attrs={\"data-cno\":\"10000072\"}).get_text()\n",
    "print(\"category\",category)\n",
    "title=soup.find(\"strong\",attrs={\"class\":\"tit_prd\"}).get_text()\n",
    "print(\"title:\",title)\n",
    "shop_title=soup.find(\"span\",attrs={\"class\":\"txt_vendor\"}).get_text()\n",
    "print(\"shop_title:\",shop_title)\n",
    "img_url = soup.find(\"img\", attrs={\"class\":\"thumb_g\"}).get(\"src\")\n",
    "print(\"st_img_url:\",img_url)\n",
    "\n",
    "data=[]\n",
    "file = open(\"./kakao2.json\", \"w\",encoding='utf-8') \n",
    "\n",
    "kakao2 = {'url' : url , 'img_url' : img_url, 'category' : category , \"title\" : title , \"shop_title\" : shop_title}\n",
    "\n",
    "data.append(kakao2)\n",
    "\n",
    "file.write(json.dumps(data,ensure_ascii=False))\n",
    "\n",
    "file.close()\n"
   ]
  }
 ],
 "metadata": {
  "kernelspec": {
   "display_name": "Python 3",
   "language": "python",
   "name": "python3"
  },
  "language_info": {
   "codemirror_mode": {
    "name": "ipython",
    "version": 3
   },
   "file_extension": ".py",
   "mimetype": "text/x-python",
   "name": "python",
   "nbconvert_exporter": "python",
   "pygments_lexer": "ipython3",
   "version": "3.6.5"
  }
 },
 "nbformat": 4,
 "nbformat_minor": 2
}
